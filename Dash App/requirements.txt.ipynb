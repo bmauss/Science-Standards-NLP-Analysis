{
 "cells": [
  {
   "cell_type": "raw",
   "metadata": {},
   "source": [
    "pip install Flask\n",
    "pip install dash\n",
    "pip install plotly\n",
    "pip install dash_html_components # dash html components\n",
    "pip install dash_core_components # dash core components \n",
    "pip install PriceIndices # will used for this tutorial for data \n",
    "pip install lxml # Needed for PriceIndices package\n",
    "pip install dash-table # data table components\n",
    "pip install dash-auth # for user authentication\n",
    "pip install gunicorn # needed for deployment "
   ]
  },
  {
   "cell_type": "raw",
   "metadata": {},
   "source": [
    "dash==1.6.1\n",
    "dash-core-components==1.5.1\n",
    "dash-html-components==1.0.2\n",
    "dash-auth==1.3.2\n",
    "dash-table==4.5.1\n",
    "Flask==1.0.2\n",
    "gunicorn==19.9.0\n",
    "numpy==1.15.4\n",
    "pandas==0.23.4\n",
    "plotly==4.2.1\n",
    "PriceIndices==1.1.1\n",
    "lxml==4.4.1"
   ]
  },
  {
   "cell_type": "code",
   "execution_count": 3,
   "metadata": {},
   "outputs": [
    {
     "name": "stdout",
     "output_type": "stream",
     "text": [
      "Note: you may need to restart the kernel to use updated packages.\n"
     ]
    }
   ],
   "source": [
    "pip freeze --> requirements.txt"
   ]
  },
  {
   "cell_type": "raw",
   "metadata": {},
   "source": [
    "import dash \n",
    "import dash_core_components as dcc \n",
    "import dash_html_components as html \n",
    "\n",
    "html.Div([ \n",
    "    html.H1('First Dash App'), \n",
    "    html.Divd([ \n",
    "        html.P(\"Dash converts Python classes into HTML\"), \n",
    "        html.P(\"This conversion happens behind the scenes by Dash's JavaScript front-end\") \n",
    "    ]) \n",
    "]) \n",
    "\n",
    "    <div> \n",
    "      <h1> First Dash App/h1> \n",
    "        <div> \n",
    "           <p> Dash converts Python Classes into HTML </p> \n",
    "            <p> This conversions happens behind the scenes by Dashs JavaScripts front-end</p> \n",
    "        <div> \n",
    "    </div>"
   ]
  }
 ],
 "metadata": {
  "kernelspec": {
   "display_name": "Python 3",
   "language": "python",
   "name": "python3"
  },
  "language_info": {
   "codemirror_mode": {
    "name": "ipython",
    "version": 3
   },
   "file_extension": ".py",
   "mimetype": "text/x-python",
   "name": "python",
   "nbconvert_exporter": "python",
   "pygments_lexer": "ipython3",
   "version": "3.8.3"
  },
  "toc": {
   "base_numbering": 1,
   "nav_menu": {},
   "number_sections": true,
   "sideBar": true,
   "skip_h1_title": false,
   "title_cell": "Table of Contents",
   "title_sidebar": "Contents",
   "toc_cell": false,
   "toc_position": {},
   "toc_section_display": true,
   "toc_window_display": false
  }
 },
 "nbformat": 4,
 "nbformat_minor": 4
}
