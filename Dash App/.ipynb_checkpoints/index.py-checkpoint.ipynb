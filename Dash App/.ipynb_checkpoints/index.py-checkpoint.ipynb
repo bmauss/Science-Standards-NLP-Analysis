{
 "cells": [
  {
   "cell_type": "code",
   "execution_count": null,
   "metadata": {},
   "outputs": [],
   "source": [
    "from app import app \n",
    "from app import server \n",
    "import dash_html_components as html \n",
    "import dash_core_components as dcc \n",
    "\n",
    "app.layout = html.Div([html.H1('Dash Demo Graph', \n",
    "                              style={\n",
    "                                  'textAlign': 'center'\n",
    "                                  \"background\": 'yellow'}), \n",
    "                      dcc.Graph( \n",
    "                          id='graph-1', \n",
    "                          figure={ \n",
    "                              'data': [ \n",
    "                                  {'x': [1,2,3,4,5,6,7], 'y':[10,20,30,40,50,60,70], 'type': 'line', 'name': 'value'},\n",
    "                                  {'x': [1, 2, 3, 4, 5, 6, 7], 'y': [12, 22, 36, 44, 49, 58, 73], 'type': 'line', 'name': 'value2'}\n",
    "                              ], \n",
    "                              'layout': { \n",
    "                                  'title': 'Simply Line Graph', \n",
    "                                   }\n",
    "                               }\n",
    "                          ), \n",
    "                          ], style = { \n",
    "                              \"background\": \"#00080\"}\n",
    "                          ) \n",
    "if __name__ == '__main__': \n",
    "    app.run_server(debug=True)"
   ]
  }
 ],
 "metadata": {
  "kernelspec": {
   "display_name": "Python 3",
   "language": "python",
   "name": "python3"
  },
  "language_info": {
   "codemirror_mode": {
    "name": "ipython",
    "version": 3
   },
   "file_extension": ".py",
   "mimetype": "text/x-python",
   "name": "python",
   "nbconvert_exporter": "python",
   "pygments_lexer": "ipython3",
   "version": "3.8.3"
  },
  "toc": {
   "base_numbering": 1,
   "nav_menu": {},
   "number_sections": true,
   "sideBar": true,
   "skip_h1_title": false,
   "title_cell": "Table of Contents",
   "title_sidebar": "Contents",
   "toc_cell": false,
   "toc_position": {},
   "toc_section_display": true,
   "toc_window_display": false
  }
 },
 "nbformat": 4,
 "nbformat_minor": 4
}
