{
 "cells": [
  {
   "cell_type": "markdown",
   "metadata": {},
   "source": [
    "# Project Extension 1: Gaussian Mixture Model \n",
    "\n",
    "Shortly after officially finishing my capstone I came across the idea of using a Gaussian mixture model as an unsupervised learning technique that would allow me to cluster data. In the primary project I used a KMeans model model to achieve my desired clustering. According to the sklearn documentation:  \n",
    "\n",
    ">\"A Gaussian mixture model is a probabilistic model that assumes all the data points are generated from a mixture of a finite number of Gaussian distributions with unknown parameters. One can think of mixture models as generalizing k-means clustering to incorporate information about the covariance structure of the data as well as the centers of the latent Gaussians.\"  \n",
    "\n",
    "This notebook contains an exploration of gaussian mixture models using the same science standards corpora. "
   ]
  },
  {
   "cell_type": "code",
   "execution_count": 1,
   "metadata": {},
   "outputs": [],
   "source": [
    "import pandas as pd \n",
    "import pickle  \n",
    "%matplotlib inline\n",
    "import matplotlib.pyplot as plt\n",
    "import seaborn as sns\n",
    "import numpy as np"
   ]
  },
  {
   "cell_type": "code",
   "execution_count": 2,
   "metadata": {},
   "outputs": [
    {
     "data": {
      "text/html": [
       "<div>\n",
       "<style scoped>\n",
       "    .dataframe tbody tr th:only-of-type {\n",
       "        vertical-align: middle;\n",
       "    }\n",
       "\n",
       "    .dataframe tbody tr th {\n",
       "        vertical-align: top;\n",
       "    }\n",
       "\n",
       "    .dataframe thead th {\n",
       "        text-align: right;\n",
       "    }\n",
       "</style>\n",
       "<table border=\"1\" class=\"dataframe\">\n",
       "  <thead>\n",
       "    <tr style=\"text-align: right;\">\n",
       "      <th></th>\n",
       "      <th>level_0</th>\n",
       "      <th>state</th>\n",
       "      <th>corpus</th>\n",
       "    </tr>\n",
       "  </thead>\n",
       "  <tbody>\n",
       "    <tr>\n",
       "      <th>0</th>\n",
       "      <td>0</td>\n",
       "      <td>TXTfiles/alabama</td>\n",
       "      <td>'information', 'regarding', 'course', 'study',...</td>\n",
       "    </tr>\n",
       "    <tr>\n",
       "      <th>1</th>\n",
       "      <td>1</td>\n",
       "      <td>TXTfiles/alaska</td>\n",
       "      <td>'dept', 'education', 'early', 'development', '...</td>\n",
       "    </tr>\n",
       "    <tr>\n",
       "      <th>2</th>\n",
       "      <td>2</td>\n",
       "      <td>TXTfiles/arizona</td>\n",
       "      <td>'department', 'education', 'academic', 'introd...</td>\n",
       "    </tr>\n",
       "    <tr>\n",
       "      <th>3</th>\n",
       "      <td>3</td>\n",
       "      <td>TXTfiles/colorado</td>\n",
       "      <td>'review', 'revision', 'committee', 'chairperso...</td>\n",
       "    </tr>\n",
       "    <tr>\n",
       "      <th>4</th>\n",
       "      <td>4</td>\n",
       "      <td>TXTfiles/flordia</td>\n",
       "      <td>'specifications', 'florida', 'state', 'adoptio...</td>\n",
       "    </tr>\n",
       "    <tr>\n",
       "      <th>5</th>\n",
       "      <td>5</td>\n",
       "      <td>TXTfiles/georgia</td>\n",
       "      <td>'excellence', 'first', 'excellence', 'designed...</td>\n",
       "    </tr>\n",
       "    <tr>\n",
       "      <th>6</th>\n",
       "      <td>6</td>\n",
       "      <td>TXTfiles/idaho</td>\n",
       "      <td>'content', 'state', 'superintendent', 'public'...</td>\n",
       "    </tr>\n",
       "    <tr>\n",
       "      <th>7</th>\n",
       "      <td>7</td>\n",
       "      <td>TXTfiles/indiana</td>\n",
       "      <td>'physics', 'engineering', 'process', 'seps', '...</td>\n",
       "    </tr>\n",
       "    <tr>\n",
       "      <th>8</th>\n",
       "      <td>8</td>\n",
       "      <td>TXTfiles/louisiana</td>\n",
       "      <td>'shifts', 'following', 'key', 'shifts', 'calle...</td>\n",
       "    </tr>\n",
       "    <tr>\n",
       "      <th>9</th>\n",
       "      <td>9</td>\n",
       "      <td>TXTfiles/mass</td>\n",
       "      <td>'massachusetts', 'technology', 'framework', 'e...</td>\n",
       "    </tr>\n",
       "    <tr>\n",
       "      <th>10</th>\n",
       "      <td>10</td>\n",
       "      <td>TXTfiles/michigan</td>\n",
       "      <td>'overview', 'organization', 'structure', 'perf...</td>\n",
       "    </tr>\n",
       "    <tr>\n",
       "      <th>11</th>\n",
       "      <td>11</td>\n",
       "      <td>TXTfiles/minnesota</td>\n",
       "      <td>'academic', 'version', 'nature', 'engineering'...</td>\n",
       "    </tr>\n",
       "    <tr>\n",
       "      <th>12</th>\n",
       "      <td>12</td>\n",
       "      <td>TXTfiles/mississippi</td>\n",
       "      <td>'miss', 'admin', 'code', 'part', 'college', 'c...</td>\n",
       "    </tr>\n",
       "    <tr>\n",
       "      <th>13</th>\n",
       "      <td>13</td>\n",
       "      <td>TXTfiles/missouri</td>\n",
       "      <td>'learning', 'expectations', 'department', 'ele...</td>\n",
       "    </tr>\n",
       "    <tr>\n",
       "      <th>14</th>\n",
       "      <td>14</td>\n",
       "      <td>TXTfiles/montana</td>\n",
       "      <td>'content', 'adopted', 'board', 'public', 'educ...</td>\n",
       "    </tr>\n",
       "    <tr>\n",
       "      <th>15</th>\n",
       "      <td>15</td>\n",
       "      <td>TXTfiles/nebraksa</td>\n",
       "      <td>'centennial', 'mall', 'lincoln', 'nebraska', '...</td>\n",
       "    </tr>\n",
       "    <tr>\n",
       "      <th>16</th>\n",
       "      <td>16</td>\n",
       "      <td>TXTfiles/northcarolina</td>\n",
       "      <td>'designed', 'help', 'educators', 'teach', 'ess...</td>\n",
       "    </tr>\n",
       "    <tr>\n",
       "      <th>17</th>\n",
       "      <td>17</td>\n",
       "      <td>TXTfiles/northdakota</td>\n",
       "      <td>'content', 'february', 'department', 'public',...</td>\n",
       "    </tr>\n",
       "    <tr>\n",
       "      <th>18</th>\n",
       "      <td>18</td>\n",
       "      <td>TXTfiles/ohio</td>\n",
       "      <td>'learning', 'model', 'adopted', 'february', 'm...</td>\n",
       "    </tr>\n",
       "    <tr>\n",
       "      <th>19</th>\n",
       "      <td>19</td>\n",
       "      <td>TXTfiles/oklahoma</td>\n",
       "      <td>'academic', 'introduction', 'introduction', 'p...</td>\n",
       "    </tr>\n",
       "    <tr>\n",
       "      <th>20</th>\n",
       "      <td>20</td>\n",
       "      <td>TXTfiles/pennsylvania</td>\n",
       "      <td>'academic', 'technology', 'department', 'educa...</td>\n",
       "    </tr>\n",
       "    <tr>\n",
       "      <th>21</th>\n",
       "      <td>21</td>\n",
       "      <td>TXTfiles/southcarolina</td>\n",
       "      <td>'academic', 'performance', 'indicators', 'mick...</td>\n",
       "    </tr>\n",
       "    <tr>\n",
       "      <th>22</th>\n",
       "      <td>22</td>\n",
       "      <td>TXTfiles/southdakota</td>\n",
       "      <td>'adopted', 'board', 'education', 'acknowledgem...</td>\n",
       "    </tr>\n",
       "    <tr>\n",
       "      <th>23</th>\n",
       "      <td>23</td>\n",
       "      <td>TXTfiles/tennessee</td>\n",
       "      <td>'academic', 'value', 'statement', 'possesses',...</td>\n",
       "    </tr>\n",
       "    <tr>\n",
       "      <th>24</th>\n",
       "      <td>24</td>\n",
       "      <td>TXTfiles/texas</td>\n",
       "      <td>'elementary', 'essential', 'knowledge', 'skill...</td>\n",
       "    </tr>\n",
       "    <tr>\n",
       "      <th>25</th>\n",
       "      <td>25</td>\n",
       "      <td>TXTfiles/utah</td>\n",
       "      <td>'core', 'engineering', 'education', 'seed', 's...</td>\n",
       "    </tr>\n",
       "    <tr>\n",
       "      <th>26</th>\n",
       "      <td>26</td>\n",
       "      <td>TXTfiles/wisconsin</td>\n",
       "      <td>'wi', 'swisconsin', 'ddepartment', 'rt', 'fpub...</td>\n",
       "    </tr>\n",
       "    <tr>\n",
       "      <th>27</th>\n",
       "      <td>27</td>\n",
       "      <td>TXTfiles/northdakota</td>\n",
       "      <td>'content', 'february', 'department', 'public',...</td>\n",
       "    </tr>\n",
       "    <tr>\n",
       "      <th>28</th>\n",
       "      <td>28</td>\n",
       "      <td>TXTfiles/wyoming</td>\n",
       "      <td>'extended', 'content', 'performance', 'state',...</td>\n",
       "    </tr>\n",
       "    <tr>\n",
       "      <th>29</th>\n",
       "      <td>29</td>\n",
       "      <td>TXTfiles/virginia</td>\n",
       "      <td>'learning', 'public', 'schools', 'board', 'edu...</td>\n",
       "    </tr>\n",
       "  </tbody>\n",
       "</table>\n",
       "</div>"
      ],
      "text/plain": [
       "    level_0                   state  \\\n",
       "0         0        TXTfiles/alabama   \n",
       "1         1         TXTfiles/alaska   \n",
       "2         2        TXTfiles/arizona   \n",
       "3         3       TXTfiles/colorado   \n",
       "4         4        TXTfiles/flordia   \n",
       "5         5        TXTfiles/georgia   \n",
       "6         6          TXTfiles/idaho   \n",
       "7         7        TXTfiles/indiana   \n",
       "8         8      TXTfiles/louisiana   \n",
       "9         9           TXTfiles/mass   \n",
       "10       10       TXTfiles/michigan   \n",
       "11       11      TXTfiles/minnesota   \n",
       "12       12    TXTfiles/mississippi   \n",
       "13       13       TXTfiles/missouri   \n",
       "14       14        TXTfiles/montana   \n",
       "15       15       TXTfiles/nebraksa   \n",
       "16       16  TXTfiles/northcarolina   \n",
       "17       17    TXTfiles/northdakota   \n",
       "18       18           TXTfiles/ohio   \n",
       "19       19       TXTfiles/oklahoma   \n",
       "20       20   TXTfiles/pennsylvania   \n",
       "21       21  TXTfiles/southcarolina   \n",
       "22       22    TXTfiles/southdakota   \n",
       "23       23      TXTfiles/tennessee   \n",
       "24       24          TXTfiles/texas   \n",
       "25       25           TXTfiles/utah   \n",
       "26       26      TXTfiles/wisconsin   \n",
       "27       27    TXTfiles/northdakota   \n",
       "28       28        TXTfiles/wyoming   \n",
       "29       29       TXTfiles/virginia   \n",
       "\n",
       "                                               corpus  \n",
       "0   'information', 'regarding', 'course', 'study',...  \n",
       "1   'dept', 'education', 'early', 'development', '...  \n",
       "2   'department', 'education', 'academic', 'introd...  \n",
       "3   'review', 'revision', 'committee', 'chairperso...  \n",
       "4   'specifications', 'florida', 'state', 'adoptio...  \n",
       "5   'excellence', 'first', 'excellence', 'designed...  \n",
       "6   'content', 'state', 'superintendent', 'public'...  \n",
       "7   'physics', 'engineering', 'process', 'seps', '...  \n",
       "8   'shifts', 'following', 'key', 'shifts', 'calle...  \n",
       "9   'massachusetts', 'technology', 'framework', 'e...  \n",
       "10  'overview', 'organization', 'structure', 'perf...  \n",
       "11  'academic', 'version', 'nature', 'engineering'...  \n",
       "12  'miss', 'admin', 'code', 'part', 'college', 'c...  \n",
       "13  'learning', 'expectations', 'department', 'ele...  \n",
       "14  'content', 'adopted', 'board', 'public', 'educ...  \n",
       "15  'centennial', 'mall', 'lincoln', 'nebraska', '...  \n",
       "16  'designed', 'help', 'educators', 'teach', 'ess...  \n",
       "17  'content', 'february', 'department', 'public',...  \n",
       "18  'learning', 'model', 'adopted', 'february', 'm...  \n",
       "19  'academic', 'introduction', 'introduction', 'p...  \n",
       "20  'academic', 'technology', 'department', 'educa...  \n",
       "21  'academic', 'performance', 'indicators', 'mick...  \n",
       "22  'adopted', 'board', 'education', 'acknowledgem...  \n",
       "23  'academic', 'value', 'statement', 'possesses',...  \n",
       "24  'elementary', 'essential', 'knowledge', 'skill...  \n",
       "25  'core', 'engineering', 'education', 'seed', 's...  \n",
       "26  'wi', 'swisconsin', 'ddepartment', 'rt', 'fpub...  \n",
       "27  'content', 'february', 'department', 'public',...  \n",
       "28  'extended', 'content', 'performance', 'state',...  \n",
       "29  'learning', 'public', 'schools', 'board', 'edu...  "
      ]
     },
     "execution_count": 2,
     "metadata": {},
     "output_type": "execute_result"
    }
   ],
   "source": [
    "#import text data\n",
    "df = pickle.load( open( \"Pickles/standards_corpi.pkl\", \"rb\" ) ) \n",
    "df.drop(df.tail(1).index,inplace=True) \n",
    "df"
   ]
  },
  {
   "cell_type": "code",
   "execution_count": 3,
   "metadata": {},
   "outputs": [],
   "source": [
    "#set features & labels to list\n",
    "corpi_list = df['corpus'].values.tolist() \n",
    "state_list = df['state'].values.tolist()"
   ]
  },
  {
   "cell_type": "markdown",
   "metadata": {},
   "source": [
    "Text data needs to be prepared in the same way it was for KMeans model by vectorizing the terms. This data was already cleaned and tokenized prior to pickling so I am choosing not to apply additional processing for the moment but that could be revisited & refined."
   ]
  },
  {
   "cell_type": "code",
   "execution_count": 4,
   "metadata": {},
   "outputs": [],
   "source": [
    "from sklearn.feature_extraction.text import TfidfVectorizer \n",
    "from sklearn.metrics.pairwise import cosine_similarity  "
   ]
  },
  {
   "cell_type": "code",
   "execution_count": 5,
   "metadata": {},
   "outputs": [],
   "source": [
    "#define vectorizer parameters\n",
    "tfidf_vectorizer = TfidfVectorizer(max_df=0.8, max_features=200000,\n",
    "                                 min_df=0.2, stop_words='english',\n",
    "                                 use_idf=True, ngram_range=(1,3))\n",
    "\n",
    "tfidf_matrix = tfidf_vectorizer.fit_transform(corpi_list)"
   ]
  },
  {
   "cell_type": "code",
   "execution_count": 6,
   "metadata": {},
   "outputs": [
    {
     "data": {
      "text/plain": [
       "(30, 22482)"
      ]
     },
     "execution_count": 6,
     "metadata": {},
     "output_type": "execute_result"
    }
   ],
   "source": [
    "tfidf_matrix.shape"
   ]
  },
  {
   "cell_type": "code",
   "execution_count": 7,
   "metadata": {},
   "outputs": [],
   "source": [
    "#values needed later for kmeans \n",
    "terms = tfidf_vectorizer.get_feature_names() \n",
    "dist = 1 - cosine_similarity(tfidf_matrix) "
   ]
  },
  {
   "cell_type": "markdown",
   "metadata": {},
   "source": [
    "In the original KMeans project the clusters produced were elliptically than spherically shaped (as reproduced below) and at least one point was clustered in a different than the points located directly next to it. The data produced a non circular grouping and thus circular groupings were a poor fit. The main problem with KMeans then becomes there is no way to determine the probability that a specific data point will fall within one or a different cluster. With a Gaussian Mixture Model there is the possibility to finding the probability that a point will fall within a specific cluster. I will apply the same number of groups that I used in the KMeans clusters in the initial model."
   ]
  },
  {
   "cell_type": "code",
   "execution_count": 8,
   "metadata": {},
   "outputs": [],
   "source": [
    "from sklearn import mixture"
   ]
  },
  {
   "cell_type": "markdown",
   "metadata": {},
   "source": [
    "The matrix needs to be turned into a dense matrix before being passed into the model."
   ]
  },
  {
   "cell_type": "code",
   "execution_count": 9,
   "metadata": {},
   "outputs": [],
   "source": [
    "dense_matrix = tfidf_matrix.toarray()"
   ]
  },
  {
   "cell_type": "code",
   "execution_count": 10,
   "metadata": {},
   "outputs": [],
   "source": [
    "#fit GMM Model\n",
    "model = mixture.GaussianMixture(n_components=3, covariance_type='full')  \n",
    "gmm = model.fit(dense_matrix)\n",
    "labels = gmm.predict(dense_matrix)"
   ]
  },
  {
   "cell_type": "markdown",
   "metadata": {},
   "source": [
    "Below is a matrix of the probability that a given point will fall into a specific cluster."
   ]
  },
  {
   "cell_type": "code",
   "execution_count": 11,
   "metadata": {
    "collapsed": true
   },
   "outputs": [
    {
     "name": "stdout",
     "output_type": "stream",
     "text": [
      "[[0. 1. 0.]\n",
      " [0. 1. 0.]\n",
      " [0. 1. 0.]\n",
      " [0. 1. 0.]\n",
      " [0. 0. 1.]\n",
      " [0. 1. 0.]\n",
      " [0. 1. 0.]\n",
      " [1. 0. 0.]\n",
      " [0. 1. 0.]\n",
      " [0. 1. 0.]\n",
      " [0. 1. 0.]\n",
      " [0. 0. 1.]\n",
      " [0. 1. 0.]\n",
      " [0. 1. 0.]\n",
      " [0. 1. 0.]\n",
      " [0. 0. 1.]\n",
      " [0. 1. 0.]\n",
      " [0. 1. 0.]\n",
      " [0. 1. 0.]\n",
      " [0. 1. 0.]\n",
      " [0. 0. 1.]\n",
      " [0. 1. 0.]\n",
      " [0. 1. 0.]\n",
      " [0. 1. 0.]\n",
      " [0. 0. 1.]\n",
      " [0. 1. 0.]\n",
      " [0. 1. 0.]\n",
      " [0. 1. 0.]\n",
      " [0. 1. 0.]\n",
      " [0. 1. 0.]]\n"
     ]
    }
   ],
   "source": [
    "#Utilize the statistical \n",
    "probs = gmm.predict_proba(dense_matrix)\n",
    "print(probs[:30].round(3))"
   ]
  },
  {
   "cell_type": "code",
   "execution_count": 12,
   "metadata": {},
   "outputs": [
    {
     "data": {
      "image/png": "[encoded data removed]",
      "text/plain": [
       "<Figure size 432x288 with 1 Axes>"
      ]
     },
     "metadata": {
      "needs_background": "light"
     },
     "output_type": "display_data"
    }
   ],
   "source": [
    "size = 50 * probs.max(1) ** 2  # square emphasizes differences\n",
    "plt.scatter(dense_matrix[:, 0], dense_matrix[:, 1], c=labels, cmap='viridis',\n",
    "            s=size);"
   ]
  },
  {
   "cell_type": "markdown",
   "metadata": {},
   "source": [
    "This is super weird looking. There is something going on and I suspect it has to do with the vectorization/ dense array. Next step: take a step back and explore GMM with numerical data then try to re implement with NLP."
   ]
  },
  {
   "cell_type": "code",
   "execution_count": 15,
   "metadata": {},
   "outputs": [],
   "source": [
    "from sklearn.datasets import make_blobs"
   ]
  },
  {
   "cell_type": "code",
   "execution_count": 19,
   "metadata": {},
   "outputs": [],
   "source": [
    "#make blobs\n",
    "X, y = make_blobs(n_samples=400, centers=3, cluster_std=0.60, \n",
    "                 random_state=42)"
   ]
  },
  {
   "cell_type": "code",
   "execution_count": 24,
   "metadata": {},
   "outputs": [],
   "source": [
    "#fit a Gaussian Mixture model on blobs \n",
    "test_model= mixture.GaussianMixture(n_components=3, covariance_type='full', \n",
    "                                   random_state=42)\n",
    "test_gmm = test_model.fit(X)\n",
    "test_labels = test_gmm.predict(X) "
   ]
  },
  {
   "cell_type": "code",
   "execution_count": 25,
   "metadata": {},
   "outputs": [
    {
     "data": {
      "text/plain": [
       "<matplotlib.collections.PathCollection at 0x7fa020abb6a0>"
      ]
     },
     "execution_count": 25,
     "metadata": {},
     "output_type": "execute_result"
    },
    {
     "data": {
      "image/png": "[encoded data removed]",
      "text/plain": [
       "<Figure size 432x288 with 1 Axes>"
      ]
     },
     "metadata": {
      "needs_background": "light"
     },
     "output_type": "display_data"
    }
   ],
   "source": [
    "#plot \n",
    "plt.scatter(X[:, 0], X[:, 1], c=test_labels, s=40, cmap='viridis')"
   ]
  },
  {
   "cell_type": "code",
   "execution_count": null,
   "metadata": {},
   "outputs": [],
   "source": []
  }
 ],
 "metadata": {
  "kernelspec": {
   "display_name": "Python 3",
   "language": "python",
   "name": "python3"
  },
  "language_info": {
   "codemirror_mode": {
    "name": "ipython",
    "version": 3
   },
   "file_extension": ".py",
   "mimetype": "text/x-python",
   "name": "python",
   "nbconvert_exporter": "python",
   "pygments_lexer": "ipython3",
   "version": "3.8.3"
  },
  "toc": {
   "base_numbering": 1,
   "nav_menu": {},
   "number_sections": true,
   "sideBar": true,
   "skip_h1_title": false,
   "title_cell": "Table of Contents",
   "title_sidebar": "Contents",
   "toc_cell": false,
   "toc_position": {},
   "toc_section_display": true,
   "toc_window_display": false
  }
 },
 "nbformat": 4,
 "nbformat_minor": 4
}
