{
 "cells": [
  {
   "cell_type": "markdown",
   "metadata": {},
   "source": [
    "# Data Collection \n",
    "For this project I used BeautifulSoup, PyPDF2, and pdftotext to both scrape data from the web as well as convert PDF data into txt files. My primary focus in collection were the science standards written for NGS, aligned NGS standards and unaligned standards. In addition I collected the state wide grade 8 science examination (2002-2019) and a broad range of questions used in my own 6th grade classroom to preform classification and question alignment."
   ]
  },
  {
   "cell_type": "code",
   "execution_count": 3,
   "metadata": {
    "ExecuteTime": {
     "end_time": "2021-01-16T22:15:37.697029Z",
     "start_time": "2021-01-16T22:15:37.692094Z"
    }
   },
   "outputs": [],
   "source": [
    "#custom functions \n",
    "from projectfunctions import *"
   ]
  },
  {
   "cell_type": "code",
   "execution_count": 4,
   "metadata": {},
   "outputs": [],
   "source": [
    "#webscraping\n",
    "from bs4 import BeautifulSoup \n",
    "import requests   \n",
    "from time import sleep \n",
    "import textract \n",
    "\n",
    "#data analysis\n",
    "import pandas as pd  \n",
    "import numpy as np \n",
    "from random import randint  \n",
    "\n",
    "#saving files\n",
    "import pickle \n",
    "import PyPDF2 \n",
    "import sys"
   ]
  },
  {
   "cell_type": "markdown",
   "metadata": {
    "heading_collapsed": true
   },
   "source": [
    "# Standards"
   ]
  },
  {
   "cell_type": "markdown",
   "metadata": {
    "heading_collapsed": true,
    "hidden": true
   },
   "source": [
    "### Next Generation Science Standards K-12  \n",
    "The [NGS](https://www.nextgenscience.org/) Standards are redesigned, national standards for K-12, in addition a [book](https://www.nap.edu/read/13165/chapter/1) detailing the reasoning, methodology and practices was released "
   ]
  },
  {
   "cell_type": "markdown",
   "metadata": {
    "hidden": true
   },
   "source": [
    "#### Standards & Basic Description Via Website"
   ]
  },
  {
   "cell_type": "code",
   "execution_count": 9,
   "metadata": {
    "hidden": true
   },
   "outputs": [],
   "source": [
    "#scrape the standard name and description of each science standard \n",
    "pages = np.arange(0, 36, 1)  \n",
    "standard_list = [] \n",
    "\n",
    "for i in pages:   \n",
    "    page = requests.get(f\"https://www.nextgenscience.org/search-standards?keys=&page={i}\") \n",
    "    soup = BeautifulSoup(page.text, 'html.parser')\n",
    "    standards = soup.find_all('div', class_=\"col-sm-9\") \n",
    "    sleep(randint(2,10))  \n",
    "    for standard in standards:  \n",
    "        standard_list.append(standard.text.split('\\n\\n\\n\\n\\n')[:2])   \n",
    "        \n",
    "#standards by grade & core concept(dci)\n",
    "ngs = pd.DataFrame(standard_list, columns=['dci', 'standard'])  \n",
    "ngs['dci'] = ngs['dci'].map(lambda x: x.replace('\\n\\n\\n', '').strip('\\t'))   \n",
    "\n",
    "#split the standard column to have the tag and name in two seperate columns \n",
    "ngs[['tag','dci']] = ngs[\"dci\"].str.split(\" \", 1, expand=True)\n",
    "ngs[\"dci\"] = ngs[\"dci\"].str.strip(\"-\")\n",
    "ngs['tag'] = ngs['tag'].str.strip(\"\\n\\r\\n\") \n",
    "ngs['dci'] = ngs['dci'].str.strip('Grade:\\xa0    \\n\\n') \n",
    "#remove the DCI arrangemnts (double listed) \n",
    "ngs_standards = ngs.loc[: 206]  \n",
    "ngs_standards.head() \n",
    "pickle.dump(ngs_standards, open( \"ngsstandards.p\", \"wb\" ) )"
   ]
  },
  {
   "cell_type": "markdown",
   "metadata": {
    "hidden": true
   },
   "source": [
    "#### Load the Expanded NGS Standards PDF into a TXT File"
   ]
  },
  {
   "cell_type": "code",
   "execution_count": 10,
   "metadata": {
    "ExecuteTime": {
     "end_time": "2021-01-16T22:15:44.665149Z",
     "start_time": "2021-01-16T22:15:43.880342Z"
    },
    "hidden": true
   },
   "outputs": [],
   "source": [
    "#load the expanded ngs standards pdf into a txt file \n",
    "fn.pdf_to_text(filepath='/Users/kristen/Downloads/NGS.pdf', filename='ngs')"
   ]
  },
  {
   "cell_type": "markdown",
   "metadata": {
    "hidden": true
   },
   "source": [
    "### Aligned NGS State Standards  \n",
    "As of January 2021 the [following states](https://victoryprd.com/blog/update-on-next-generation-science-standards-ngss/) have aligned thier local standards to the NGS Standards."
   ]
  },
  {
   "cell_type": "code",
   "execution_count": 11,
   "metadata": {
    "hidden": true
   },
   "outputs": [],
   "source": [
    "#alabama \n",
    "pdf_to_text(filepath='/Users/kristen/Downloads/Alabama.pdf', filename='alabama') "
   ]
  },
  {
   "cell_type": "code",
   "execution_count": 12,
   "metadata": {
    "hidden": true
   },
   "outputs": [],
   "source": [
    "#alaska \n",
    "pdf_to_text(filepath='/Users/kristen/Downloads/alaska.pdf', filename='alaska')  "
   ]
  },
  {
   "cell_type": "code",
   "execution_count": 13,
   "metadata": {
    "hidden": true
   },
   "outputs": [],
   "source": [
    "#arizona \n",
    "pdf_to_text(filepath='/Users/kristen/Downloads/Arizona.pdf', filename='arizona') "
   ]
  },
  {
   "cell_type": "code",
   "execution_count": 14,
   "metadata": {
    "hidden": true
   },
   "outputs": [],
   "source": [
    "#colorado\n",
    "pdf_to_text(filepath='/Users/kristen/Downloads/colorado.pdf', filename='colorado')  "
   ]
  },
  {
   "cell_type": "code",
   "execution_count": 15,
   "metadata": {
    "hidden": true
   },
   "outputs": [],
   "source": [
    "#flordia  \n",
    "pdf_to_text(filepath='/Users/kristen/Downloads/flordia.pdf', filename='flordia') "
   ]
  },
  {
   "cell_type": "code",
   "execution_count": null,
   "metadata": {
    "hidden": true
   },
   "outputs": [],
   "source": [
    "#georgia  \n",
    "FILE_PATH_G = ['/Users/kristen/Downloads/georgiak.pdf', '/Users/kristen/Downloads/georgia1.pdf',\n",
    "            '/Users/kristen/Downloads/georgia2.pdf', '/Users/kristen/Downloads/georgia3.pdf', \n",
    "            '/Users/kristen/Downloads/georgia4.pdf', '/Users/kristen/Downloads/georgia5.pdf', \n",
    "            '/Users/kristen/Downloads/georgia6.pdf', '/Users/kristen/Downloads/georgia7.pdf', \n",
    "            '/Users/kristen/Downloads/georgia8.pdf', '/Users/kristen/Downloads/georgiaa.pdf', \n",
    "            '/Users/kristen/Downloads/georgiab.pdf', '/Users/kristen/Downloads/georgiabo.pdf', \n",
    "            '/Users/kristen/Downloads/georgiac.pdf', '/Users/kristen/Downloads/georgiaes.pdf', \n",
    "            '/Users/kristen/Downloads/georgiaec.pdf', '/Users/kristen/Downloads/georgiaen.pdf', \n",
    "            '/Users/kristen/Downloads/georgiaevs.pdf', '/Users/kristen/Downloads/georgiaep.pdf', \n",
    "            '/Users/kristen/Downloads/georgiafs.pdf', '/Users/kristen/Downloads/georgiag.pdf', \n",
    "            '/Users/kristen/Downloads/georgiahap.pdf', '/Users/kristen/Downloads/georgiame.pdf', \n",
    "            '/Users/kristen/Downloads/georgiami.pdf', '/Users/kristen/Downloads/georgiao.pdf', \n",
    "            '/Users/kristen/Downloads/georgiaps.pdf', '/Users/kristen/Downloads/georgiap.pdf', \n",
    "            '/Users/kristen/Downloads/georgiaz.pdf']  \n",
    "\n",
    "for file in FILE_PATH_G: \n",
    "        with open(file, mode='rb') as f:\n",
    "            reader = PyPDF2.PdfFileReader(f) \n",
    "            number_of_pages = reader.getNumPages()  \n",
    "            for page in range(number_of_pages):   \n",
    "                page = reader.getPage(page) \n",
    "                file = open('georgia.txt', 'a')\n",
    "                sys.stdout = file\n",
    "                print(page.extractText()) \n",
    "                file.close()  "
   ]
  },
  {
   "cell_type": "code",
   "execution_count": null,
   "metadata": {
    "hidden": true
   },
   "outputs": [
    {
     "name": "stderr",
     "output_type": "stream",
     "text": [
      "Exception in thread IPythonHistorySavingThread:\n",
      "Traceback (most recent call last):\n",
      "  File \"/Users/kristen/opt/anaconda3/lib/python3.8/site-packages/IPython/core/history.py\", line 780, in writeout_cache\n"
     ]
    }
   ],
   "source": [
    "#idaho \n",
    "pdf_to_text(filepath='/Users/kristen/Downloads/colorado.pdf', filename='idaho')          "
   ]
  },
  {
   "cell_type": "code",
   "execution_count": 3,
   "metadata": {
    "hidden": true
   },
   "outputs": [],
   "source": [
    "#indiana  \n",
    "pdf_to_text(filepath='/Users/kristen/Downloads/indiana.pdf', filename='indiana') "
   ]
  },
  {
   "cell_type": "code",
   "execution_count": null,
   "metadata": {
    "hidden": true
   },
   "outputs": [],
   "source": [
    "#lousiana\n",
    "pdf_to_text(filepath='/Users/kristen/Downloads/k-12-louisiana-student-standards-for-science 2/louisiana.pdf', filename='louisiana')          "
   ]
  },
  {
   "cell_type": "code",
   "execution_count": null,
   "metadata": {
    "hidden": true
   },
   "outputs": [],
   "source": [
    "#massachusetts\n",
    "pdf_to_text(filepath='/Users/kristen/Downloads/mass.pdf', filename='mass')  "
   ]
  },
  {
   "cell_type": "code",
   "execution_count": null,
   "metadata": {
    "hidden": true
   },
   "outputs": [],
   "source": [
    "#minnesota   \n",
    "pdf_to_text(filepath='/Users/kristen/Downloads/mass.pdf', filename='minnesota')  "
   ]
  },
  {
   "cell_type": "code",
   "execution_count": null,
   "metadata": {
    "hidden": true
   },
   "outputs": [],
   "source": [
    "#mississippi \n",
    "pdf_to_text(filepath='/Users/kristen/Downloads/mass.pdf', filename='mississippi')  "
   ]
  },
  {
   "cell_type": "code",
   "execution_count": null,
   "metadata": {
    "hidden": true
   },
   "outputs": [],
   "source": [
    "#missouri \n",
    "pdf_to_text(filepath='/Users/kristen/Downloads/mo1 2021-01-13 at 5.38.23 PM.pdf', filename='missouri')  "
   ]
  },
  {
   "cell_type": "code",
   "execution_count": null,
   "metadata": {
    "hidden": true
   },
   "outputs": [],
   "source": [
    "#montana \n",
    "pdf_to_text(filepath='/Users/kristen/Downloads/mass.pdf', filename='montana')  "
   ]
  },
  {
   "cell_type": "code",
   "execution_count": null,
   "metadata": {
    "hidden": true
   },
   "outputs": [],
   "source": [
    "#nebraska \n",
    "pdf_to_text(filepath='/Users/kristen/Downloads/nebraska.pdf', filename='nebraksa') "
   ]
  },
  {
   "cell_type": "code",
   "execution_count": null,
   "metadata": {
    "hidden": true
   },
   "outputs": [],
   "source": [
    "#north dakota\n",
    "pdf_to_text(filepath='/Users/kristen/Downloads/northdakota.pdf', filename='northdakota')"
   ]
  },
  {
   "cell_type": "code",
   "execution_count": null,
   "metadata": {
    "hidden": true
   },
   "outputs": [],
   "source": [
    "#oklahoma \n",
    "pdf_to_text(filepath='/Users/kristen/Downloads/oklahoma.pdf', filename='oklahoma') "
   ]
  },
  {
   "cell_type": "code",
   "execution_count": null,
   "metadata": {
    "hidden": true
   },
   "outputs": [],
   "source": [
    "#south carolina \n",
    "pdf_to_text(filepath='/Users/kristen/Downloads/southcarolina.pdf', filename='southcarolina')  "
   ]
  },
  {
   "cell_type": "code",
   "execution_count": null,
   "metadata": {
    "hidden": true
   },
   "outputs": [],
   "source": [
    "#south dakota \n",
    "pdf_to_text(filepath='/Users/kristen/Downloads/southdakota.pdf', filename='southdakota') "
   ]
  },
  {
   "cell_type": "code",
   "execution_count": null,
   "metadata": {
    "hidden": true
   },
   "outputs": [],
   "source": [
    "#tennessee \n",
    "pdf_to_text(filepath='/Users/kristen/Downloads/tennessee.pdf', filename='tennessee') "
   ]
  },
  {
   "cell_type": "code",
   "execution_count": null,
   "metadata": {
    "hidden": true
   },
   "outputs": [],
   "source": [
    "#utah \n",
    "pdf_to_text(filepath='/Users/kristen/Downloads/utah.pdf', filename='utah')  "
   ]
  },
  {
   "cell_type": "code",
   "execution_count": 5,
   "metadata": {
    "hidden": true
   },
   "outputs": [
    {
     "ename": "FileNotFoundError",
     "evalue": "[Errno 2] No such file or directory: '/Users/kristen/Downloads/westvirginia.pdf'",
     "output_type": "error",
     "traceback": [
      "\u001b[0;31m---------------------------------------------------------------------------\u001b[0m",
      "\u001b[0;31mFileNotFoundError\u001b[0m                         Traceback (most recent call last)",
      "\u001b[0;32m<ipython-input-5-a79c0afabe77>\u001b[0m in \u001b[0;36m<module>\u001b[0;34m\u001b[0m\n\u001b[1;32m      1\u001b[0m \u001b[0;31m#west virgina\u001b[0m\u001b[0;34m\u001b[0m\u001b[0;34m\u001b[0m\u001b[0;34m\u001b[0m\u001b[0m\n\u001b[0;32m----> 2\u001b[0;31m \u001b[0mpdf_to_text\u001b[0m\u001b[0;34m(\u001b[0m\u001b[0mfilepath\u001b[0m\u001b[0;34m=\u001b[0m\u001b[0;34m'/Users/kristen/Downloads/westvirginia.pdf'\u001b[0m\u001b[0;34m,\u001b[0m \u001b[0mfilename\u001b[0m\u001b[0;34m=\u001b[0m\u001b[0;34m'westvirginia'\u001b[0m\u001b[0;34m)\u001b[0m\u001b[0;34m\u001b[0m\u001b[0;34m\u001b[0m\u001b[0m\n\u001b[0m",
      "\u001b[0;32m~/Documents/GitHub/Capstone-Project/projectfunctions.py\u001b[0m in \u001b[0;36mpdf_to_text\u001b[0;34m(filepath, filename)\u001b[0m\n\u001b[1;32m     59\u001b[0m     \u001b[0;34m\"\"\"takes in a local PDF file path and saves it as a local txt.file\"\"\"\u001b[0m\u001b[0;34m\u001b[0m\u001b[0;34m\u001b[0m\u001b[0m\n\u001b[1;32m     60\u001b[0m     \u001b[0;32mimport\u001b[0m \u001b[0mpdftotext\u001b[0m\u001b[0;34m\u001b[0m\u001b[0;34m\u001b[0m\u001b[0m\n\u001b[0;32m---> 61\u001b[0;31m     \u001b[0;32mwith\u001b[0m \u001b[0mopen\u001b[0m\u001b[0;34m(\u001b[0m\u001b[0mfilepath\u001b[0m\u001b[0;34m,\u001b[0m \u001b[0;34m\"rb\"\u001b[0m\u001b[0;34m)\u001b[0m \u001b[0;32mas\u001b[0m \u001b[0mf\u001b[0m\u001b[0;34m:\u001b[0m\u001b[0;34m\u001b[0m\u001b[0;34m\u001b[0m\u001b[0m\n\u001b[0m\u001b[1;32m     62\u001b[0m         \u001b[0mpdf\u001b[0m \u001b[0;34m=\u001b[0m \u001b[0mpdftotext\u001b[0m\u001b[0;34m.\u001b[0m\u001b[0mPDF\u001b[0m\u001b[0;34m(\u001b[0m\u001b[0mf\u001b[0m\u001b[0;34m)\u001b[0m\u001b[0;34m\u001b[0m\u001b[0;34m\u001b[0m\u001b[0m\n\u001b[1;32m     63\u001b[0m \u001b[0;34m\u001b[0m\u001b[0m\n",
      "\u001b[0;31mFileNotFoundError\u001b[0m: [Errno 2] No such file or directory: '/Users/kristen/Downloads/westvirginia.pdf'"
     ]
    }
   ],
   "source": [
    "#west virgina \n",
    "pdf_to_text(filepath='/Users/kristen/Downloads/westvirginia.pdf', filename='westvirginia')             "
   ]
  },
  {
   "cell_type": "code",
   "execution_count": null,
   "metadata": {
    "hidden": true
   },
   "outputs": [],
   "source": [
    "#wisconsin \n",
    "pdf_to_text(filepath='/Users/kristen/Downloads/wisconsin.pdf', filename='wisconsin')  "
   ]
  },
  {
   "cell_type": "code",
   "execution_count": null,
   "metadata": {
    "hidden": true
   },
   "outputs": [],
   "source": [
    "#wyoming \n",
    "pdf_to_text(filepath='/Users/kristen/Downloads/wyoming.pdf', filename='wyoming') "
   ]
  },
  {
   "cell_type": "markdown",
   "metadata": {
    "hidden": true
   },
   "source": [
    "### Non Aligned State Standards  \n",
    "As of January 2021 the [following states](https://victoryprd.com/blog/update-on-next-generation-science-standards-ngss/) have not aligned thier local standards to the NGS Standards."
   ]
  },
  {
   "cell_type": "code",
   "execution_count": null,
   "metadata": {
    "hidden": true
   },
   "outputs": [],
   "source": [
    "#maine \n",
    "pdf_to_text(filepath='/Users/kristen/Downloads/maine.pdf', filename='maine') "
   ]
  },
  {
   "cell_type": "code",
   "execution_count": null,
   "metadata": {
    "hidden": true
   },
   "outputs": [],
   "source": [
    "#michigan \n",
    "pdf_to_text(filepath='/Users/kristen/Downloads/michigan.pdf', filename='michigan') "
   ]
  },
  {
   "cell_type": "code",
   "execution_count": null,
   "metadata": {
    "hidden": true
   },
   "outputs": [],
   "source": [
    "#north carolina\n",
    "pdf_to_text(filepath='/Users/kristen/Downloads/nc1 2021-01-13 at 5.48.03 PM.pdf', filename='northcarolina') "
   ]
  },
  {
   "cell_type": "code",
   "execution_count": null,
   "metadata": {
    "hidden": true
   },
   "outputs": [],
   "source": [
    "#ohio \n",
    "pdf_to_text(filepath='/Users/kristen/Downloads/ohio.pdf', filename='ohio')  \n",
    "            \n",
    "#pennsylvania \n",
    "pdf_to_text(filepath='/Users/kristen/Downloads/pennsylvania.pdf', filename='pennsylvania') "
   ]
  },
  {
   "cell_type": "code",
   "execution_count": 1,
   "metadata": {
    "collapsed": true,
    "hidden": true
   },
   "outputs": [
    {
     "ename": "NameError",
     "evalue": "name 'pdf_to_text' is not defined",
     "output_type": "error",
     "traceback": [
      "\u001b[0;31m---------------------------------------------------------------------------\u001b[0m",
      "\u001b[0;31mNameError\u001b[0m                                 Traceback (most recent call last)",
      "\u001b[0;32m<ipython-input-1-63e414c0630c>\u001b[0m in \u001b[0;36m<module>\u001b[0;34m\u001b[0m\n\u001b[1;32m      1\u001b[0m \u001b[0;31m#texas\u001b[0m\u001b[0;34m\u001b[0m\u001b[0;34m\u001b[0m\u001b[0;34m\u001b[0m\u001b[0m\n\u001b[0;32m----> 2\u001b[0;31m \u001b[0mpdf_to_text\u001b[0m\u001b[0;34m(\u001b[0m\u001b[0mfilepath\u001b[0m\u001b[0;34m=\u001b[0m\u001b[0;34m'/Users/kristen/Downloads/texas.pdf'\u001b[0m\u001b[0;34m,\u001b[0m \u001b[0mfilename\u001b[0m\u001b[0;34m=\u001b[0m\u001b[0;34m'texas'\u001b[0m\u001b[0;34m)\u001b[0m\u001b[0;34m\u001b[0m\u001b[0;34m\u001b[0m\u001b[0m\n\u001b[0m\u001b[1;32m      3\u001b[0m \u001b[0;34m\u001b[0m\u001b[0m\n\u001b[1;32m      4\u001b[0m \u001b[0;31m#virginia\u001b[0m\u001b[0;34m\u001b[0m\u001b[0;34m\u001b[0m\u001b[0;34m\u001b[0m\u001b[0m\n\u001b[1;32m      5\u001b[0m \u001b[0mpdf_to_text\u001b[0m\u001b[0;34m(\u001b[0m\u001b[0mfilepath\u001b[0m\u001b[0;34m=\u001b[0m\u001b[0;34m'/Users/kristen/Downloads/virginia.pdf'\u001b[0m\u001b[0;34m,\u001b[0m \u001b[0mfilename\u001b[0m\u001b[0;34m=\u001b[0m\u001b[0;34m'virginia'\u001b[0m\u001b[0;34m)\u001b[0m\u001b[0;34m\u001b[0m\u001b[0;34m\u001b[0m\u001b[0m\n",
      "\u001b[0;31mNameError\u001b[0m: name 'pdf_to_text' is not defined"
     ]
    }
   ],
   "source": [
    "#texas  \n",
    "pdf_to_text(filepath='/Users/kristen/Downloads/texas.pdf', filename='texas')"
   ]
  },
  {
   "cell_type": "code",
   "execution_count": 4,
   "metadata": {
    "hidden": true
   },
   "outputs": [],
   "source": [
    "#virginia \n",
    "pdf_to_text(filepath='/Users/kristen/Downloads/virginia.pdf', filename='virginia') "
   ]
  },
  {
   "cell_type": "markdown",
   "metadata": {},
   "source": [
    "# Question Sets "
   ]
  },
  {
   "cell_type": "markdown",
   "metadata": {},
   "source": [
    "### NY State 8th Grade State Test  \n",
    "A NGS aligned state's standardized test"
   ]
  },
  {
   "cell_type": "code",
   "execution_count": null,
   "metadata": {},
   "outputs": [],
   "source": [
    "#new york tests \n",
    "pdf_to_text(filepath='/Users/kristen/Downloads/2001 2021-01-13 at 5.51.01 PM.pdf', filename='newyorktests') "
   ]
  },
  {
   "cell_type": "markdown",
   "metadata": {},
   "source": [
    "### Classroom Question Repository \n",
    "This is a collection of 'real world' questions used in classwork, labs, tests in quizzes in a 6th Grade Science classroom."
   ]
  },
  {
   "cell_type": "code",
   "execution_count": null,
   "metadata": {},
   "outputs": [],
   "source": [
    "#load in question data \n",
    "classroom_questions_csv = pd.read_csv('Capstone Data - Questions Set (2).csv')\n",
    "classroom_questions = pd.DataFrame(classroom_questions_csv) "
   ]
  },
  {
   "cell_type": "markdown",
   "metadata": {},
   "source": [
    "### State Dictionary "
   ]
  },
  {
   "cell_type": "code",
   "execution_count": 5,
   "metadata": {},
   "outputs": [],
   "source": [
    "#state dictionary of most recent standards update and states status with NGS\n",
    "state_dict = {'alabama': {'update_year': 2015, 'standards': 'aligned'}, \n",
    "             'alaskas': {'update_year': 2017, 'standards': 'aligned'}, \n",
    "             'arizona': {'update_year': 2018, 'standards': 'aligned'}, \n",
    "             'arkansas': {'update_year': 2016, 'standards': 'adopted'}, \n",
    "             'california': {'update_year': 2013, 'standards': 'adopted'},\n",
    "             'colorado': {'update_year': 2020, 'standards': 'aligned'},\n",
    "             'conneticut': {'update_year': 2015, 'standards': 'adopted'},\n",
    "             'delaware': {'update_year': 2016, 'standards': 'adopted'}, \n",
    "             'flordia': {'update_year': 2008, 'standards': 'independent'}, \n",
    "             'georgia': {'update_year': 2016, 'standards': 'aligned'}, \n",
    "             'hawaii': {'update_year': 2016, 'standards': 'adopted'}, \n",
    "             'idaho': {'update_year': 2018, 'standards': 'aligned'}, \n",
    "             'illinois': {'update_year': 2014, 'standards': 'adopted'}, \n",
    "             'indiana': {'update_year': 2016, 'standards': 'aligned'}, \n",
    "             'iowa': {'update_year': 2015, 'standards': 'adopted'}, \n",
    "             'arkansas': {'update_year': 2016, 'standards': 'adopted'},\n",
    "             'kansas': {'update_year': 2013, 'standards': 'adopted'}, \n",
    "             'kentucky': {'update_year': 2015, 'standards': 'adopted'},\n",
    "             'louisiana': {'update_year': 20202, 'standards': 'aligned'}, \n",
    "             'maine': {'update_year': 2019, 'standards': 'independent'},\n",
    "             'maryland': {'update_year': 2013, 'standards': 'adopted'}, \n",
    "             'massachusetts': {'update_year': 2016, 'standards': 'aligned'},\n",
    "             'michigan': {'update_year': 2015, 'standards': 'independent'}, \n",
    "             'minnesota': {'update_year': 2019, 'standards': 'aligned'},\n",
    "             'mississippi': {'update_year': 2018, 'standards': 'aligned'},\n",
    "             'missouri': {'update_year': 2016, 'standards': 'aligned'}, \n",
    "             'montana': {'update_year': 2016, 'standards': 'aligned'},\n",
    "             'nebraska': {'update_year': 2017, 'standards': 'aligned'},\n",
    "             'nevada': {'update_year': 2015, 'standards': 'adopted'}, \n",
    "             'new hampshire': {'update_year': 2015, 'standards': 'adopted'}, \n",
    "             'new jersey': {'update_year': 2020, 'standards': 'adopted'}, \n",
    "             'new mexico': {'update_year': 2003, 'standards': 'adopted'}, \n",
    "             'new york': {'update_year': 2016, 'standards': 'adopted'}, \n",
    "             'north carolina': {'update_year': 2004, 'standards': 'independent'}, \n",
    "             'north dakota': {'update_year': 2019, 'standards': 'aligned'}, \n",
    "             'ohio': {'update_year': 2019, 'standards': 'independent'}, \n",
    "             'oklahoma': {'update_year': 2020, 'standards': 'aligned'}, \n",
    "             'oregon': {'update_year': 2014, 'standards': 'adopted'}, \n",
    "             'pennsylvania': {'update_year': 2002, 'standards': 'independent'}, \n",
    "             'rhode island': {'update_year': 2013, 'standards': 'adopted'}, \n",
    "             'south carolina': {'update_year': 2014, 'standards': 'aligned'}, \n",
    "             'south dakota': {'update_year': 2016, 'standards': 'aligned'}, \n",
    "             'tennessee': {'update_year': 2016, 'standards': 'aligned'}, \n",
    "             'texas': {'update_year': 2017, 'standards': 'independent'}, \n",
    "             'utah': {'update_year': 2019, 'standards': 'aligned'}, \n",
    "             'vermont': {'update_year': 2013, 'standards': 'adopted'}, \n",
    "             'virginia': {'update_year': 2018, 'standards': 'independent'},\n",
    "             'washington': {'update_year': 2013, 'standards': 'adopted'}, \n",
    "             'west virginia': {'update_year': 2015, 'standards': 'adopted'}, \n",
    "             'wisconsin': {'update_year': 2017, 'standards': 'aligned'},\n",
    "             'wyoming': {'update_year': 2017, 'standards': 'aligned'},}"
   ]
  },
  {
   "cell_type": "code",
   "execution_count": 6,
   "metadata": {},
   "outputs": [],
   "source": [
    "#turn the dictionary into a df \n",
    "state_df = pd.DataFrame.from_dict(state_dict)  \n",
    "\n",
    "#pickle df \n",
    "state_df.to_pickle(\"./state_df.pkl\")"
   ]
  },
  {
   "cell_type": "code",
   "execution_count": null,
   "metadata": {},
   "outputs": [],
   "source": []
  }
 ],
 "metadata": {
  "kernelspec": {
   "display_name": "Python 3",
   "language": "python",
   "name": "python3"
  },
  "language_info": {
   "codemirror_mode": {
    "name": "ipython",
    "version": 3
   },
   "file_extension": ".py",
   "mimetype": "text/x-python",
   "name": "python",
   "nbconvert_exporter": "python",
   "pygments_lexer": "ipython3",
   "version": "3.8.3"
  },
  "toc": {
   "base_numbering": 1,
   "nav_menu": {},
   "number_sections": true,
   "sideBar": true,
   "skip_h1_title": false,
   "title_cell": "Table of Contents",
   "title_sidebar": "Contents",
   "toc_cell": false,
   "toc_position": {},
   "toc_section_display": true,
   "toc_window_display": false
  }
 },
 "nbformat": 4,
 "nbformat_minor": 4
}
