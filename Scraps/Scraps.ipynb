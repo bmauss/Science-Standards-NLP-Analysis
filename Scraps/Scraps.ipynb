{
 "cells": [
  {
   "cell_type": "code",
   "execution_count": null,
   "metadata": {},
   "outputs": [],
   "source": [
    "from py_stringmatching import HammingDistance\n",
    "\n",
    "hd = HammingDistance()\n",
    "hd.get_raw_score('Plan and conduct an investigation to describe and classify different kinds of materials by their observable properties', \n",
    "                 'Conduct an investigation to describe and classify various substances according to physical properties')"
   ]
  },
  {
   "cell_type": "code",
   "execution_count": null,
   "metadata": {},
   "outputs": [],
   "source": [
    "s = sm.similarity_measure.partial_ratio.PartialRatio()\n",
    "\n",
    "s.get_raw_score('Plan and conduct an investigation to describe and classify different kinds of materials by their observable properties', \n",
    "                 'Conduct an investigation to describe and classify various substances according to physical properties')"
   ]
  }
 ],
 "metadata": {
  "kernelspec": {
   "display_name": "Python 3",
   "language": "python",
   "name": "python3"
  },
  "language_info": {
   "codemirror_mode": {
    "name": "ipython",
    "version": 3
   },
   "file_extension": ".py",
   "mimetype": "text/x-python",
   "name": "python",
   "nbconvert_exporter": "python",
   "pygments_lexer": "ipython3",
   "version": "3.8.3"
  },
  "toc": {
   "base_numbering": 1,
   "nav_menu": {},
   "number_sections": true,
   "sideBar": true,
   "skip_h1_title": false,
   "title_cell": "Table of Contents",
   "title_sidebar": "Contents",
   "toc_cell": false,
   "toc_position": {},
   "toc_section_display": true,
   "toc_window_display": false
  }
 },
 "nbformat": 4,
 "nbformat_minor": 4
}
